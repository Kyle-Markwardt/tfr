{
 "cells": [
  {
   "cell_type": "code",
   "execution_count": null,
   "id": "1dfa330e",
   "metadata": {},
   "outputs": [],
   "source": [
    "# Fix misformatted OCC labels from raw text pasted into a CSV\n",
    "input_path = \"data/lookups/occ_labels.csv\"\n",
    "output_path = \"data/lookups/occ_labels_cleaned.csv\"\n",
    "\n",
    "cleaned = []\n",
    "with open(input_path, \"r\", encoding=\"utf-8\") as f:\n",
    "    for line in f:\n",
    "        # Skip header or empty lines\n",
    "        if line.strip() == \"\" or line.startswith(\"OCC\"):\n",
    "            continue\n",
    "        code = line[:4].strip()\n",
    "        label = line[4:].strip()\n",
    "        cleaned.append((code, label))\n",
    "\n",
    "# Save cleaned version\n",
    "df_clean = pd.DataFrame(cleaned, columns=[\"OCC\", \"Occupation\"])\n",
    "df_clean.to_csv(output_path, index=False)\n",
    "\n",
    "print(f\"Cleaned CSV saved to: {output_path}\")\n"
   ]
  }
 ],
 "metadata": {
  "language_info": {
   "name": "python"
  }
 },
 "nbformat": 4,
 "nbformat_minor": 5
}
