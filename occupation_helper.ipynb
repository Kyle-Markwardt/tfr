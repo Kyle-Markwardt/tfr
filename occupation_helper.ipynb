{
 "cells": [
  {
   "cell_type": "code",
   "execution_count": 3,
   "id": "1dfa330e",
   "metadata": {},
   "outputs": [
    {
     "name": "stdout",
     "output_type": "stream",
     "text": [
      "Cleaned CSV saved to: data/lookups/occ_labels_cleaned.csv\n"
     ]
    }
   ],
   "source": [
    "# Fix misformatted OCC labels from raw text pasted into a CSV\n",
    "import pandas as pd\n",
    "import csv\n",
    "\n",
    "input_path = \"data/lookups/occ_labels.csv\"\n",
    "output_path = \"data/lookups/occ_labels_cleaned.csv\"\n",
    "\n",
    "cleaned = []\n",
    "with open(input_path, \"r\", encoding=\"utf-8\") as f:\n",
    "    for line in f:\n",
    "        # Skip header or empty lines\n",
    "        if line.strip() == \"\" or line.startswith(\"OCC\"):\n",
    "            continue\n",
    "        code = line[:4].strip()\n",
    "        label = line[4:].strip()\n",
    "        cleaned.append((code, label))\n",
    "\n",
    "# Save cleaned version\n",
    "df_clean = pd.DataFrame(cleaned, columns=[\"OCC\", \"Occupation\"])\n",
    "df_clean.to_csv(output_path, index=False, quoting=csv.QUOTE_ALL)\n",
    "\n",
    "print(f\"Cleaned CSV saved to: {output_path}\")\n"
   ]
  },
  {
   "cell_type": "code",
   "execution_count": null,
   "id": "886cb39b",
   "metadata": {},
   "outputs": [],
   "source": []
  }
 ],
 "metadata": {
  "kernelspec": {
   "display_name": "base",
   "language": "python",
   "name": "python3"
  },
  "language_info": {
   "codemirror_mode": {
    "name": "ipython",
    "version": 3
   },
   "file_extension": ".py",
   "mimetype": "text/x-python",
   "name": "python",
   "nbconvert_exporter": "python",
   "pygments_lexer": "ipython3",
   "version": "3.11.7"
  }
 },
 "nbformat": 4,
 "nbformat_minor": 5
}
